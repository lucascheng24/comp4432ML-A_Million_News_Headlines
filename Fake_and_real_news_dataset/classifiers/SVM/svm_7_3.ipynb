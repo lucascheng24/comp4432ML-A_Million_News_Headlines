{
 "cells": [
  {
   "attachments": {},
   "cell_type": "markdown",
   "metadata": {},
   "source": [
    "using linear, rbf\n",
    "\n",
    "<h4>SVC accuracy: 0.8806069277414077 (2000 iteration)</h4>\n",
    "CV Score:  0.749898441263524 (300 iteration)"
   ]
  },
  {
   "attachments": {},
   "cell_type": "markdown",
   "metadata": {},
   "source": [
    "rbf:0.20"
   ]
  },
  {
   "cell_type": "code",
   "execution_count": 1,
   "metadata": {},
   "outputs": [],
   "source": [
    "import numpy as np\n",
    "import pandas as pd\n",
    "from sklearn import svm\n",
    "from sklearn import metrics\n",
    "from sklearn.metrics import f1_score\n",
    "from matplotlib import pyplot as plt\n",
    "from sklearn.decomposition import PCA\n",
    "from sklearn.pipeline import Pipeline\n",
    "from sklearn.preprocessing import RobustScaler\n",
    "from sklearn.preprocessing import StandardScaler\n",
    "from sklearn.model_selection import train_test_split\n"
   ]
  },
  {
   "cell_type": "code",
   "execution_count": 2,
   "metadata": {},
   "outputs": [
    {
     "data": {
      "text/plain": [
       "(30596, 251)"
      ]
     },
     "execution_count": 2,
     "metadata": {},
     "output_type": "execute_result"
    }
   ],
   "source": [
    "dataPath = '../../preprocess_data_set/newsData_ratio7_3.csv'\n",
    "\n",
    "\n",
    "df_train = pd.read_csv(dataPath)\n",
    "df_train.shape"
   ]
  },
  {
   "cell_type": "code",
   "execution_count": 11,
   "metadata": {},
   "outputs": [
    {
     "name": "stdout",
     "output_type": "stream",
     "text": [
      "true:  21417\n",
      "fake:  9179\n",
      "ratio:  7 : 3\n"
     ]
    }
   ],
   "source": [
    "true_num = len(df_train[df_train['target'] == 0])\n",
    "fake_num = len(df_train[df_train['target'] == 1])\n",
    "\n",
    "print('true: ', true_num)\n",
    "print('fake: ', fake_num)\n",
    "print('ratio: ', round(true_num/(true_num+fake_num)*10), ':', round(fake_num/(true_num+fake_num)*10))"
   ]
  },
  {
   "cell_type": "code",
   "execution_count": 12,
   "metadata": {},
   "outputs": [
    {
     "data": {
      "text/html": [
       "<div>\n",
       "<style scoped>\n",
       "    .dataframe tbody tr th:only-of-type {\n",
       "        vertical-align: middle;\n",
       "    }\n",
       "\n",
       "    .dataframe tbody tr th {\n",
       "        vertical-align: top;\n",
       "    }\n",
       "\n",
       "    .dataframe thead th {\n",
       "        text-align: right;\n",
       "    }\n",
       "</style>\n",
       "<table border=\"1\" class=\"dataframe\">\n",
       "  <thead>\n",
       "    <tr style=\"text-align: right;\">\n",
       "      <th></th>\n",
       "      <th>0</th>\n",
       "      <th>1</th>\n",
       "      <th>2</th>\n",
       "      <th>3</th>\n",
       "      <th>4</th>\n",
       "      <th>5</th>\n",
       "      <th>6</th>\n",
       "      <th>7</th>\n",
       "      <th>8</th>\n",
       "      <th>9</th>\n",
       "      <th>...</th>\n",
       "      <th>241</th>\n",
       "      <th>242</th>\n",
       "      <th>243</th>\n",
       "      <th>244</th>\n",
       "      <th>245</th>\n",
       "      <th>246</th>\n",
       "      <th>247</th>\n",
       "      <th>248</th>\n",
       "      <th>249</th>\n",
       "      <th>target</th>\n",
       "    </tr>\n",
       "  </thead>\n",
       "  <tbody>\n",
       "    <tr>\n",
       "      <th>0</th>\n",
       "      <td>42.455132</td>\n",
       "      <td>-50.953991</td>\n",
       "      <td>99.818428</td>\n",
       "      <td>-316.107483</td>\n",
       "      <td>53.498409</td>\n",
       "      <td>55.934536</td>\n",
       "      <td>92.538963</td>\n",
       "      <td>-33.979904</td>\n",
       "      <td>10.602808</td>\n",
       "      <td>22.387562</td>\n",
       "      <td>...</td>\n",
       "      <td>-63.298397</td>\n",
       "      <td>68.290588</td>\n",
       "      <td>133.424210</td>\n",
       "      <td>32.149315</td>\n",
       "      <td>121.010704</td>\n",
       "      <td>110.851044</td>\n",
       "      <td>-132.072083</td>\n",
       "      <td>125.778786</td>\n",
       "      <td>-58.826687</td>\n",
       "      <td>0</td>\n",
       "    </tr>\n",
       "    <tr>\n",
       "      <th>1</th>\n",
       "      <td>-1.727171</td>\n",
       "      <td>27.740406</td>\n",
       "      <td>125.628799</td>\n",
       "      <td>-127.156479</td>\n",
       "      <td>-62.473709</td>\n",
       "      <td>59.147991</td>\n",
       "      <td>-19.125122</td>\n",
       "      <td>13.135873</td>\n",
       "      <td>-92.007278</td>\n",
       "      <td>0.863871</td>\n",
       "      <td>...</td>\n",
       "      <td>-108.985596</td>\n",
       "      <td>64.527687</td>\n",
       "      <td>116.999680</td>\n",
       "      <td>-62.812771</td>\n",
       "      <td>77.967781</td>\n",
       "      <td>119.477493</td>\n",
       "      <td>-143.561859</td>\n",
       "      <td>81.683609</td>\n",
       "      <td>36.430000</td>\n",
       "      <td>1</td>\n",
       "    </tr>\n",
       "    <tr>\n",
       "      <th>2</th>\n",
       "      <td>19.496304</td>\n",
       "      <td>33.855499</td>\n",
       "      <td>-14.377092</td>\n",
       "      <td>-0.920414</td>\n",
       "      <td>25.495764</td>\n",
       "      <td>7.779876</td>\n",
       "      <td>11.530159</td>\n",
       "      <td>71.908546</td>\n",
       "      <td>2.734811</td>\n",
       "      <td>12.893160</td>\n",
       "      <td>...</td>\n",
       "      <td>-59.412041</td>\n",
       "      <td>31.138416</td>\n",
       "      <td>53.304871</td>\n",
       "      <td>-4.471688</td>\n",
       "      <td>34.372753</td>\n",
       "      <td>78.842545</td>\n",
       "      <td>-34.733784</td>\n",
       "      <td>-9.807273</td>\n",
       "      <td>-89.478889</td>\n",
       "      <td>0</td>\n",
       "    </tr>\n",
       "    <tr>\n",
       "      <th>3</th>\n",
       "      <td>18.339348</td>\n",
       "      <td>56.834511</td>\n",
       "      <td>68.332909</td>\n",
       "      <td>-265.524445</td>\n",
       "      <td>143.352158</td>\n",
       "      <td>121.597862</td>\n",
       "      <td>125.450836</td>\n",
       "      <td>135.037506</td>\n",
       "      <td>-78.606079</td>\n",
       "      <td>-33.299149</td>\n",
       "      <td>...</td>\n",
       "      <td>-268.377228</td>\n",
       "      <td>57.991219</td>\n",
       "      <td>148.846161</td>\n",
       "      <td>56.392963</td>\n",
       "      <td>60.726601</td>\n",
       "      <td>48.201519</td>\n",
       "      <td>-150.783218</td>\n",
       "      <td>12.620663</td>\n",
       "      <td>-33.680744</td>\n",
       "      <td>0</td>\n",
       "    </tr>\n",
       "    <tr>\n",
       "      <th>4</th>\n",
       "      <td>-7.841404</td>\n",
       "      <td>-9.377191</td>\n",
       "      <td>5.297772</td>\n",
       "      <td>-25.169394</td>\n",
       "      <td>-83.374245</td>\n",
       "      <td>22.724648</td>\n",
       "      <td>-41.564102</td>\n",
       "      <td>52.831814</td>\n",
       "      <td>-80.180710</td>\n",
       "      <td>8.350343</td>\n",
       "      <td>...</td>\n",
       "      <td>-34.018639</td>\n",
       "      <td>85.269745</td>\n",
       "      <td>56.804756</td>\n",
       "      <td>-19.617065</td>\n",
       "      <td>33.431763</td>\n",
       "      <td>47.782055</td>\n",
       "      <td>-45.233616</td>\n",
       "      <td>46.687035</td>\n",
       "      <td>-3.209060</td>\n",
       "      <td>1</td>\n",
       "    </tr>\n",
       "    <tr>\n",
       "      <th>...</th>\n",
       "      <td>...</td>\n",
       "      <td>...</td>\n",
       "      <td>...</td>\n",
       "      <td>...</td>\n",
       "      <td>...</td>\n",
       "      <td>...</td>\n",
       "      <td>...</td>\n",
       "      <td>...</td>\n",
       "      <td>...</td>\n",
       "      <td>...</td>\n",
       "      <td>...</td>\n",
       "      <td>...</td>\n",
       "      <td>...</td>\n",
       "      <td>...</td>\n",
       "      <td>...</td>\n",
       "      <td>...</td>\n",
       "      <td>...</td>\n",
       "      <td>...</td>\n",
       "      <td>...</td>\n",
       "      <td>...</td>\n",
       "      <td>...</td>\n",
       "    </tr>\n",
       "    <tr>\n",
       "      <th>30591</th>\n",
       "      <td>0.187079</td>\n",
       "      <td>6.258466</td>\n",
       "      <td>26.050087</td>\n",
       "      <td>-2.658908</td>\n",
       "      <td>-22.038094</td>\n",
       "      <td>2.788828</td>\n",
       "      <td>15.217941</td>\n",
       "      <td>47.763519</td>\n",
       "      <td>-36.392353</td>\n",
       "      <td>17.822460</td>\n",
       "      <td>...</td>\n",
       "      <td>-7.008969</td>\n",
       "      <td>21.320059</td>\n",
       "      <td>36.675110</td>\n",
       "      <td>-6.755287</td>\n",
       "      <td>-13.033915</td>\n",
       "      <td>-2.526433</td>\n",
       "      <td>-15.932160</td>\n",
       "      <td>0.654946</td>\n",
       "      <td>-6.573362</td>\n",
       "      <td>1</td>\n",
       "    </tr>\n",
       "    <tr>\n",
       "      <th>30592</th>\n",
       "      <td>12.243509</td>\n",
       "      <td>15.988544</td>\n",
       "      <td>2.602415</td>\n",
       "      <td>-13.816628</td>\n",
       "      <td>6.288369</td>\n",
       "      <td>14.187876</td>\n",
       "      <td>-1.567730</td>\n",
       "      <td>25.463924</td>\n",
       "      <td>-22.658405</td>\n",
       "      <td>-10.208418</td>\n",
       "      <td>...</td>\n",
       "      <td>-5.444115</td>\n",
       "      <td>5.040789</td>\n",
       "      <td>7.340761</td>\n",
       "      <td>-15.502775</td>\n",
       "      <td>1.732793</td>\n",
       "      <td>23.224855</td>\n",
       "      <td>13.576536</td>\n",
       "      <td>7.364353</td>\n",
       "      <td>-16.898249</td>\n",
       "      <td>0</td>\n",
       "    </tr>\n",
       "    <tr>\n",
       "      <th>30593</th>\n",
       "      <td>18.661009</td>\n",
       "      <td>2.571635</td>\n",
       "      <td>58.957745</td>\n",
       "      <td>14.891508</td>\n",
       "      <td>-27.561335</td>\n",
       "      <td>18.789759</td>\n",
       "      <td>12.723019</td>\n",
       "      <td>103.359253</td>\n",
       "      <td>-50.332371</td>\n",
       "      <td>21.426294</td>\n",
       "      <td>...</td>\n",
       "      <td>-34.708092</td>\n",
       "      <td>26.210335</td>\n",
       "      <td>109.794098</td>\n",
       "      <td>-82.266296</td>\n",
       "      <td>44.776142</td>\n",
       "      <td>41.948517</td>\n",
       "      <td>-51.859398</td>\n",
       "      <td>60.478554</td>\n",
       "      <td>-37.625496</td>\n",
       "      <td>1</td>\n",
       "    </tr>\n",
       "    <tr>\n",
       "      <th>30594</th>\n",
       "      <td>-41.106071</td>\n",
       "      <td>7.518096</td>\n",
       "      <td>60.161488</td>\n",
       "      <td>-122.449242</td>\n",
       "      <td>-39.882217</td>\n",
       "      <td>88.901695</td>\n",
       "      <td>14.772892</td>\n",
       "      <td>38.054276</td>\n",
       "      <td>-41.552925</td>\n",
       "      <td>3.278573</td>\n",
       "      <td>...</td>\n",
       "      <td>-115.628021</td>\n",
       "      <td>54.892971</td>\n",
       "      <td>18.165539</td>\n",
       "      <td>52.833824</td>\n",
       "      <td>40.980968</td>\n",
       "      <td>109.664467</td>\n",
       "      <td>-48.400860</td>\n",
       "      <td>29.010323</td>\n",
       "      <td>-21.500406</td>\n",
       "      <td>0</td>\n",
       "    </tr>\n",
       "    <tr>\n",
       "      <th>30595</th>\n",
       "      <td>61.742813</td>\n",
       "      <td>72.064575</td>\n",
       "      <td>41.548363</td>\n",
       "      <td>-181.906906</td>\n",
       "      <td>27.541046</td>\n",
       "      <td>98.385529</td>\n",
       "      <td>20.045752</td>\n",
       "      <td>62.328342</td>\n",
       "      <td>-22.033806</td>\n",
       "      <td>-14.475359</td>\n",
       "      <td>...</td>\n",
       "      <td>-89.804840</td>\n",
       "      <td>26.300117</td>\n",
       "      <td>68.107506</td>\n",
       "      <td>-21.979742</td>\n",
       "      <td>50.692890</td>\n",
       "      <td>79.781982</td>\n",
       "      <td>-29.085619</td>\n",
       "      <td>72.122139</td>\n",
       "      <td>-46.266438</td>\n",
       "      <td>0</td>\n",
       "    </tr>\n",
       "  </tbody>\n",
       "</table>\n",
       "<p>30596 rows × 251 columns</p>\n",
       "</div>"
      ],
      "text/plain": [
       "               0          1           2           3           4           5  \\\n",
       "0      42.455132 -50.953991   99.818428 -316.107483   53.498409   55.934536   \n",
       "1      -1.727171  27.740406  125.628799 -127.156479  -62.473709   59.147991   \n",
       "2      19.496304  33.855499  -14.377092   -0.920414   25.495764    7.779876   \n",
       "3      18.339348  56.834511   68.332909 -265.524445  143.352158  121.597862   \n",
       "4      -7.841404  -9.377191    5.297772  -25.169394  -83.374245   22.724648   \n",
       "...          ...        ...         ...         ...         ...         ...   \n",
       "30591   0.187079   6.258466   26.050087   -2.658908  -22.038094    2.788828   \n",
       "30592  12.243509  15.988544    2.602415  -13.816628    6.288369   14.187876   \n",
       "30593  18.661009   2.571635   58.957745   14.891508  -27.561335   18.789759   \n",
       "30594 -41.106071   7.518096   60.161488 -122.449242  -39.882217   88.901695   \n",
       "30595  61.742813  72.064575   41.548363 -181.906906   27.541046   98.385529   \n",
       "\n",
       "                6           7          8          9  ...         241  \\\n",
       "0       92.538963  -33.979904  10.602808  22.387562  ...  -63.298397   \n",
       "1      -19.125122   13.135873 -92.007278   0.863871  ... -108.985596   \n",
       "2       11.530159   71.908546   2.734811  12.893160  ...  -59.412041   \n",
       "3      125.450836  135.037506 -78.606079 -33.299149  ... -268.377228   \n",
       "4      -41.564102   52.831814 -80.180710   8.350343  ...  -34.018639   \n",
       "...           ...         ...        ...        ...  ...         ...   \n",
       "30591   15.217941   47.763519 -36.392353  17.822460  ...   -7.008969   \n",
       "30592   -1.567730   25.463924 -22.658405 -10.208418  ...   -5.444115   \n",
       "30593   12.723019  103.359253 -50.332371  21.426294  ...  -34.708092   \n",
       "30594   14.772892   38.054276 -41.552925   3.278573  ... -115.628021   \n",
       "30595   20.045752   62.328342 -22.033806 -14.475359  ...  -89.804840   \n",
       "\n",
       "             242         243        244         245         246         247  \\\n",
       "0      68.290588  133.424210  32.149315  121.010704  110.851044 -132.072083   \n",
       "1      64.527687  116.999680 -62.812771   77.967781  119.477493 -143.561859   \n",
       "2      31.138416   53.304871  -4.471688   34.372753   78.842545  -34.733784   \n",
       "3      57.991219  148.846161  56.392963   60.726601   48.201519 -150.783218   \n",
       "4      85.269745   56.804756 -19.617065   33.431763   47.782055  -45.233616   \n",
       "...          ...         ...        ...         ...         ...         ...   \n",
       "30591  21.320059   36.675110  -6.755287  -13.033915   -2.526433  -15.932160   \n",
       "30592   5.040789    7.340761 -15.502775    1.732793   23.224855   13.576536   \n",
       "30593  26.210335  109.794098 -82.266296   44.776142   41.948517  -51.859398   \n",
       "30594  54.892971   18.165539  52.833824   40.980968  109.664467  -48.400860   \n",
       "30595  26.300117   68.107506 -21.979742   50.692890   79.781982  -29.085619   \n",
       "\n",
       "              248        249  target  \n",
       "0      125.778786 -58.826687       0  \n",
       "1       81.683609  36.430000       1  \n",
       "2       -9.807273 -89.478889       0  \n",
       "3       12.620663 -33.680744       0  \n",
       "4       46.687035  -3.209060       1  \n",
       "...           ...        ...     ...  \n",
       "30591    0.654946  -6.573362       1  \n",
       "30592    7.364353 -16.898249       0  \n",
       "30593   60.478554 -37.625496       1  \n",
       "30594   29.010323 -21.500406       0  \n",
       "30595   72.122139 -46.266438       0  \n",
       "\n",
       "[30596 rows x 251 columns]"
      ]
     },
     "execution_count": 12,
     "metadata": {},
     "output_type": "execute_result"
    }
   ],
   "source": [
    "# randomly shuffle the rows\n",
    "df_train = df_train.sample(frac=1, random_state=42)\n",
    "\n",
    "df_train = df_train.reset_index()\n",
    "df_train = df_train.drop('index', axis=1)\n",
    "df_train"
   ]
  },
  {
   "cell_type": "code",
   "execution_count": 13,
   "metadata": {},
   "outputs": [],
   "source": [
    "train_y = df_train['target']\n",
    "train_x = df_train.drop(columns=['target'])"
   ]
  },
  {
   "cell_type": "code",
   "execution_count": 14,
   "metadata": {},
   "outputs": [],
   "source": [
    "# Split dataset into training set and test set\n",
    "X_train, X_test, y_train, y_test = train_test_split(train_x, train_y, test_size=0.3,random_state=109) # 70% training and 30% test"
   ]
  },
  {
   "cell_type": "code",
   "execution_count": 7,
   "metadata": {},
   "outputs": [],
   "source": [
    "# # Create a pipeline with PCA and svm\n",
    "# pc_num = 150\n",
    "\n",
    "\n",
    "# pipe = Pipeline([\n",
    "#     ('pca', PCA(n_components=pc_num)), # choose number of components to keep\n",
    "#     ('clf', svm.SVC(random_state=0, kernel='linear', class_weight='balanced', max_iter = 300))\n",
    "# ])"
   ]
  },
  {
   "cell_type": "code",
   "execution_count": 9,
   "metadata": {},
   "outputs": [
    {
     "name": "stderr",
     "output_type": "stream",
     "text": [
      "c:\\Users\\lucas\\anaconda3\\lib\\site-packages\\sklearn\\svm\\_base.py:284: ConvergenceWarning: Solver terminated early (max_iter=300).  Consider pre-processing your data with StandardScaler or MinMaxScaler.\n",
      "  warnings.warn(\n"
     ]
    }
   ],
   "source": [
    "# generate SVM model\n",
    "\n",
    "# #Create a svm Classifier\n",
    "# clf = svm.SVC(kernel='linear') # Linear Kernel\n",
    "\n",
    "# #Train the model using the training sets\n",
    "# clf.fit(X_train, y_train)\n",
    "\n",
    "# #Predict the response for test dataset\n",
    "# y_pred = clf.predict(X_test)\n",
    "\n",
    "# pipe.fit(trans_x, y_train)\n",
    "\n",
    "# predictions = pipe.predict(trans_test)"
   ]
  },
  {
   "cell_type": "code",
   "execution_count": 16,
   "metadata": {},
   "outputs": [
    {
     "name": "stderr",
     "output_type": "stream",
     "text": [
      "c:\\Users\\lucas\\anaconda3\\lib\\site-packages\\sklearn\\svm\\_base.py:284: ConvergenceWarning: Solver terminated early (max_iter=300).  Consider pre-processing your data with StandardScaler or MinMaxScaler.\n",
      "  warnings.warn(\n"
     ]
    },
    {
     "data": {
      "text/plain": [
       "SVC(class_weight='balanced', kernel='linear', max_iter=300, random_state=0)"
      ]
     },
     "execution_count": 16,
     "metadata": {},
     "output_type": "execute_result"
    }
   ],
   "source": [
    "svm_model = svm.SVC(random_state=0, kernel='linear', class_weight='balanced', max_iter = 300)\n",
    "\n",
    "svm_model.fit(X_train, y_train)"
   ]
  },
  {
   "cell_type": "code",
   "execution_count": 17,
   "metadata": {},
   "outputs": [],
   "source": [
    "y_pred = svm_model.predict(X_test)"
   ]
  },
  {
   "cell_type": "code",
   "execution_count": 18,
   "metadata": {},
   "outputs": [
    {
     "name": "stdout",
     "output_type": "stream",
     "text": [
      "              precision    recall  f1-score   support\n",
      "\n",
      "           0       0.94      0.92      0.93      6549\n",
      "           1       0.81      0.85      0.83      2630\n",
      "\n",
      "    accuracy                           0.90      9179\n",
      "   macro avg       0.87      0.89      0.88      9179\n",
      "weighted avg       0.90      0.90      0.90      9179\n",
      "\n"
     ]
    }
   ],
   "source": [
    "print(metrics.classification_report(y_pred, y_test))"
   ]
  },
  {
   "attachments": {},
   "cell_type": "markdown",
   "metadata": {},
   "source": [
    "Try using One-class SVM with non-linear kernel (RBF)"
   ]
  },
  {
   "cell_type": "code",
   "execution_count": 13,
   "metadata": {},
   "outputs": [],
   "source": [
    "# # Create a pipeline with PCA and svm\n",
    "# pc_num = 150\n",
    "\n",
    "# pipe_svm_rbf = Pipeline([\n",
    "#     ('pca', PCA(n_components=pc_num)), # choose number of components to keep\n",
    "#     ('clf', svm.OneClassSVM(nu=0.1, kernel=\"rbf\", gamma=0.1))\n",
    "# # ])\n",
    "# pipe_svm_rbf.fit(trans_x, y_train)\n",
    "\n",
    "# predictions = pipe_svm_rbf.predict(trans_test)"
   ]
  },
  {
   "cell_type": "code",
   "execution_count": 14,
   "metadata": {},
   "outputs": [],
   "source": []
  },
  {
   "cell_type": "code",
   "execution_count": 21,
   "metadata": {},
   "outputs": [
    {
     "name": "stderr",
     "output_type": "stream",
     "text": [
      "c:\\Users\\lucas\\anaconda3\\lib\\site-packages\\sklearn\\svm\\_base.py:284: ConvergenceWarning: Solver terminated early (max_iter=300).  Consider pre-processing your data with StandardScaler or MinMaxScaler.\n",
      "  warnings.warn(\n"
     ]
    },
    {
     "data": {
      "text/plain": [
       "OneClassSVM(gamma=0.1, max_iter=300, nu=0.1)"
      ]
     },
     "execution_count": 21,
     "metadata": {},
     "output_type": "execute_result"
    }
   ],
   "source": [
    "svm_model = svm.OneClassSVM(nu=0.1, gamma=0.1, kernel='rbf', max_iter = 300)\n",
    "\n",
    "svm_model.fit(X_train, y_train)"
   ]
  },
  {
   "cell_type": "code",
   "execution_count": 22,
   "metadata": {},
   "outputs": [],
   "source": [
    "predictions = svm_model.predict(X_test)"
   ]
  },
  {
   "cell_type": "code",
   "execution_count": 23,
   "metadata": {},
   "outputs": [
    {
     "name": "stdout",
     "output_type": "stream",
     "text": [
      "              precision    recall  f1-score   support\n",
      "\n",
      "          -1       0.00      0.00      0.00      9142\n",
      "           0       0.00      0.00      0.00         0\n",
      "           1       0.01      0.73      0.02        37\n",
      "\n",
      "    accuracy                           0.00      9179\n",
      "   macro avg       0.00      0.24      0.01      9179\n",
      "weighted avg       0.00      0.00      0.00      9179\n",
      "\n"
     ]
    },
    {
     "name": "stderr",
     "output_type": "stream",
     "text": [
      "c:\\Users\\lucas\\anaconda3\\lib\\site-packages\\sklearn\\metrics\\_classification.py:1318: UndefinedMetricWarning: Precision and F-score are ill-defined and being set to 0.0 in labels with no predicted samples. Use `zero_division` parameter to control this behavior.\n",
      "  _warn_prf(average, modifier, msg_start, len(result))\n",
      "c:\\Users\\lucas\\anaconda3\\lib\\site-packages\\sklearn\\metrics\\_classification.py:1318: UndefinedMetricWarning: Recall and F-score are ill-defined and being set to 0.0 in labels with no true samples. Use `zero_division` parameter to control this behavior.\n",
      "  _warn_prf(average, modifier, msg_start, len(result))\n",
      "c:\\Users\\lucas\\anaconda3\\lib\\site-packages\\sklearn\\metrics\\_classification.py:1318: UndefinedMetricWarning: Precision and F-score are ill-defined and being set to 0.0 in labels with no predicted samples. Use `zero_division` parameter to control this behavior.\n",
      "  _warn_prf(average, modifier, msg_start, len(result))\n",
      "c:\\Users\\lucas\\anaconda3\\lib\\site-packages\\sklearn\\metrics\\_classification.py:1318: UndefinedMetricWarning: Recall and F-score are ill-defined and being set to 0.0 in labels with no true samples. Use `zero_division` parameter to control this behavior.\n",
      "  _warn_prf(average, modifier, msg_start, len(result))\n",
      "c:\\Users\\lucas\\anaconda3\\lib\\site-packages\\sklearn\\metrics\\_classification.py:1318: UndefinedMetricWarning: Precision and F-score are ill-defined and being set to 0.0 in labels with no predicted samples. Use `zero_division` parameter to control this behavior.\n",
      "  _warn_prf(average, modifier, msg_start, len(result))\n",
      "c:\\Users\\lucas\\anaconda3\\lib\\site-packages\\sklearn\\metrics\\_classification.py:1318: UndefinedMetricWarning: Recall and F-score are ill-defined and being set to 0.0 in labels with no true samples. Use `zero_division` parameter to control this behavior.\n",
      "  _warn_prf(average, modifier, msg_start, len(result))\n"
     ]
    }
   ],
   "source": [
    "print(metrics.classification_report(predictions, y_test))"
   ]
  },
  {
   "cell_type": "code",
   "execution_count": 24,
   "metadata": {},
   "outputs": [
    {
     "name": "stderr",
     "output_type": "stream",
     "text": [
      "c:\\Users\\lucas\\anaconda3\\lib\\site-packages\\sklearn\\svm\\_base.py:284: ConvergenceWarning: Solver terminated early (max_iter=300).  Consider pre-processing your data with StandardScaler or MinMaxScaler.\n",
      "  warnings.warn(\n",
      "c:\\Users\\lucas\\anaconda3\\lib\\site-packages\\sklearn\\svm\\_base.py:284: ConvergenceWarning: Solver terminated early (max_iter=300).  Consider pre-processing your data with StandardScaler or MinMaxScaler.\n",
      "  warnings.warn(\n",
      "c:\\Users\\lucas\\anaconda3\\lib\\site-packages\\sklearn\\svm\\_base.py:284: ConvergenceWarning: Solver terminated early (max_iter=300).  Consider pre-processing your data with StandardScaler or MinMaxScaler.\n",
      "  warnings.warn(\n",
      "c:\\Users\\lucas\\anaconda3\\lib\\site-packages\\sklearn\\svm\\_base.py:284: ConvergenceWarning: Solver terminated early (max_iter=300).  Consider pre-processing your data with StandardScaler or MinMaxScaler.\n",
      "  warnings.warn(\n"
     ]
    },
    {
     "name": "stdout",
     "output_type": "stream",
     "text": [
      "Cross Validation Scores:  [0.85718954 0.79718908 0.74587351 0.69194313 0.65729694]\n",
      "Average CV Score:  0.749898441263524\n"
     ]
    },
    {
     "name": "stderr",
     "output_type": "stream",
     "text": [
      "c:\\Users\\lucas\\anaconda3\\lib\\site-packages\\sklearn\\svm\\_base.py:284: ConvergenceWarning: Solver terminated early (max_iter=300).  Consider pre-processing your data with StandardScaler or MinMaxScaler.\n",
      "  warnings.warn(\n"
     ]
    }
   ],
   "source": [
    "from sklearn.model_selection import KFold, cross_val_score\n",
    "\n",
    "k_folds = KFold(n_splits = 5)\n",
    "\n",
    "pc_num = 150\n",
    "\n",
    "# pipe_svm_rbf_cv = Pipeline([\n",
    "#     ('pca', PCA(n_components=pc_num)), # choose number of components to keep\n",
    "#     ('clf', svm.OneClassSVM(nu=0.1, kernel=\"rbf\", gamma=0.1))\n",
    "# ])\n",
    "\n",
    "pipe_cv = Pipeline([\n",
    "    # ('scale', StandardScaler()),\n",
    "    # ('pca', PCA(n_components=pc_num)), # choose number of components to keep\n",
    "    ('clf', svm.SVC(random_state=0, kernel='linear', class_weight='balanced', max_iter = 300))\n",
    "])\n",
    "\n",
    "scores = cross_val_score(pipe_cv, train_x, train_y, cv = k_folds)\n",
    "\n",
    "print(\"Cross Validation Scores: \", scores)\n",
    "print(\"Average CV Score: \", scores.mean())"
   ]
  },
  {
   "cell_type": "code",
   "execution_count": 28,
   "metadata": {},
   "outputs": [
    {
     "name": "stderr",
     "output_type": "stream",
     "text": [
      "c:\\Users\\lucas\\anaconda3\\lib\\site-packages\\sklearn\\svm\\_base.py:284: ConvergenceWarning: Solver terminated early (max_iter=2000).  Consider pre-processing your data with StandardScaler or MinMaxScaler.\n",
      "  warnings.warn(\n",
      "c:\\Users\\lucas\\anaconda3\\lib\\site-packages\\sklearn\\svm\\_base.py:284: ConvergenceWarning: Solver terminated early (max_iter=2000).  Consider pre-processing your data with StandardScaler or MinMaxScaler.\n",
      "  warnings.warn(\n",
      "c:\\Users\\lucas\\anaconda3\\lib\\site-packages\\sklearn\\svm\\_base.py:284: ConvergenceWarning: Solver terminated early (max_iter=2000).  Consider pre-processing your data with StandardScaler or MinMaxScaler.\n",
      "  warnings.warn(\n",
      "c:\\Users\\lucas\\anaconda3\\lib\\site-packages\\sklearn\\svm\\_base.py:284: ConvergenceWarning: Solver terminated early (max_iter=2000).  Consider pre-processing your data with StandardScaler or MinMaxScaler.\n",
      "  warnings.warn(\n",
      "c:\\Users\\lucas\\anaconda3\\lib\\site-packages\\sklearn\\svm\\_base.py:284: ConvergenceWarning: Solver terminated early (max_iter=2000).  Consider pre-processing your data with StandardScaler or MinMaxScaler.\n",
      "  warnings.warn(\n"
     ]
    },
    {
     "name": "stdout",
     "output_type": "stream",
     "text": [
      "Cross Validation Scores:  [0.83104575 0.91812388 0.92678542 0.88952443 0.83755516]\n",
      "Average CV Score:  0.8806069277414077\n"
     ]
    }
   ],
   "source": [
    "pipe_cv = Pipeline([\n",
    "    ('clf', svm.SVC(random_state=0, kernel='linear', class_weight='balanced', max_iter = 2000))\n",
    "])\n",
    "\n",
    "scores = cross_val_score(pipe_cv, train_x, train_y, cv = k_folds)\n",
    "\n",
    "print(\"Cross Validation Scores: \", scores)\n",
    "print(\"Average CV Score: \", scores.mean())"
   ]
  }
 ],
 "metadata": {
  "kernelspec": {
   "display_name": "base",
   "language": "python",
   "name": "python3"
  },
  "language_info": {
   "codemirror_mode": {
    "name": "ipython",
    "version": 3
   },
   "file_extension": ".py",
   "mimetype": "text/x-python",
   "name": "python",
   "nbconvert_exporter": "python",
   "pygments_lexer": "ipython3",
   "version": "3.9.15"
  },
  "orig_nbformat": 4
 },
 "nbformat": 4,
 "nbformat_minor": 2
}
