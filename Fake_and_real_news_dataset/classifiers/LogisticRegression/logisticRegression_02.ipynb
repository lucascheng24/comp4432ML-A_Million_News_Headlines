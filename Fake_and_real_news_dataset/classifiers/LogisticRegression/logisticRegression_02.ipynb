{
  "cells": [
    {
      "attachments": {},
      "cell_type": "markdown",
      "metadata": {
        "id": "qxCLTBTzat8c"
      },
      "source": [
        "<h1>logistic regression without applying polynomin</h1>\n",
        "\n",
        "do regularization with modal 'liblinear'\n",
        "\n",
        "# <h4>accuracy: 0.9905121924252207</h4>"
      ]
    },
    {
      "cell_type": "code",
      "execution_count": 1,
      "metadata": {
        "id": "NdN5qMrCat8f"
      },
      "outputs": [],
      "source": [
        "import csv\n",
        "import numpy as np\n",
        "import pandas as pd\n",
        "from sklearn import metrics\n",
        "from matplotlib import pyplot as plt\n",
        "from sklearn.pipeline import Pipeline\n",
        "from sklearn.decomposition import PCA\n",
        "from sklearn.preprocessing import RobustScaler\n",
        "from sklearn.model_selection import GridSearchCV\n",
        "from sklearn.linear_model import LogisticRegression\n",
        "from sklearn.model_selection import train_test_split\n",
        "from sklearn.model_selection import KFold, cross_val_score\n"
      ]
    },
    {
      "cell_type": "code",
      "execution_count": 2,
      "metadata": {
        "colab": {
          "base_uri": "https://localhost:8080/"
        },
        "id": "2aU0i-IRat8f",
        "outputId": "dde6af33-f86e-46b0-83ec-bc28344e0940"
      },
      "outputs": [
        {
          "data": {
            "text/plain": [
              "(26771, 251)"
            ]
          },
          "execution_count": 2,
          "metadata": {},
          "output_type": "execute_result"
        }
      ],
      "source": [
        "dataPath = '../../preprocess_data_set/newsData_ratio8_2.csv'\n",
        "\n",
        "df_train = pd.read_csv(dataPath)\n",
        "df_train.shape"
      ]
    },
    {
      "cell_type": "code",
      "execution_count": 3,
      "metadata": {
        "colab": {
          "base_uri": "https://localhost:8080/",
          "height": 505
        },
        "id": "WDABgtW9at8g",
        "outputId": "fc7cbc91-a0b0-4b57-d86f-bca0735f2fad"
      },
      "outputs": [
        {
          "data": {
            "text/html": [
              "<div>\n",
              "<style scoped>\n",
              "    .dataframe tbody tr th:only-of-type {\n",
              "        vertical-align: middle;\n",
              "    }\n",
              "\n",
              "    .dataframe tbody tr th {\n",
              "        vertical-align: top;\n",
              "    }\n",
              "\n",
              "    .dataframe thead th {\n",
              "        text-align: right;\n",
              "    }\n",
              "</style>\n",
              "<table border=\"1\" class=\"dataframe\">\n",
              "  <thead>\n",
              "    <tr style=\"text-align: right;\">\n",
              "      <th></th>\n",
              "      <th>0</th>\n",
              "      <th>1</th>\n",
              "      <th>2</th>\n",
              "      <th>3</th>\n",
              "      <th>4</th>\n",
              "      <th>5</th>\n",
              "      <th>6</th>\n",
              "      <th>7</th>\n",
              "      <th>8</th>\n",
              "      <th>9</th>\n",
              "      <th>...</th>\n",
              "      <th>241</th>\n",
              "      <th>242</th>\n",
              "      <th>243</th>\n",
              "      <th>244</th>\n",
              "      <th>245</th>\n",
              "      <th>246</th>\n",
              "      <th>247</th>\n",
              "      <th>248</th>\n",
              "      <th>249</th>\n",
              "      <th>target</th>\n",
              "    </tr>\n",
              "  </thead>\n",
              "  <tbody>\n",
              "    <tr>\n",
              "      <th>0</th>\n",
              "      <td>19.657124</td>\n",
              "      <td>50.442482</td>\n",
              "      <td>20.871874</td>\n",
              "      <td>-54.531494</td>\n",
              "      <td>20.362791</td>\n",
              "      <td>28.577585</td>\n",
              "      <td>-1.906657</td>\n",
              "      <td>28.021065</td>\n",
              "      <td>-24.411823</td>\n",
              "      <td>-19.387388</td>\n",
              "      <td>...</td>\n",
              "      <td>-49.060287</td>\n",
              "      <td>-3.104522</td>\n",
              "      <td>27.967051</td>\n",
              "      <td>-30.539959</td>\n",
              "      <td>0.434239</td>\n",
              "      <td>36.554264</td>\n",
              "      <td>-1.757592</td>\n",
              "      <td>37.968136</td>\n",
              "      <td>-14.561114</td>\n",
              "      <td>0</td>\n",
              "    </tr>\n",
              "    <tr>\n",
              "      <th>1</th>\n",
              "      <td>73.660179</td>\n",
              "      <td>76.221085</td>\n",
              "      <td>-40.807030</td>\n",
              "      <td>-82.814301</td>\n",
              "      <td>28.292801</td>\n",
              "      <td>36.778252</td>\n",
              "      <td>-1.909100</td>\n",
              "      <td>49.479527</td>\n",
              "      <td>-79.806595</td>\n",
              "      <td>27.742567</td>\n",
              "      <td>...</td>\n",
              "      <td>-107.097870</td>\n",
              "      <td>-24.814592</td>\n",
              "      <td>-22.166080</td>\n",
              "      <td>3.848902</td>\n",
              "      <td>36.787331</td>\n",
              "      <td>59.989563</td>\n",
              "      <td>-6.423959</td>\n",
              "      <td>21.630405</td>\n",
              "      <td>-88.683472</td>\n",
              "      <td>0</td>\n",
              "    </tr>\n",
              "    <tr>\n",
              "      <th>2</th>\n",
              "      <td>-13.957203</td>\n",
              "      <td>50.162762</td>\n",
              "      <td>60.824032</td>\n",
              "      <td>-16.521429</td>\n",
              "      <td>-84.106873</td>\n",
              "      <td>33.965801</td>\n",
              "      <td>-24.306961</td>\n",
              "      <td>112.798645</td>\n",
              "      <td>-90.984291</td>\n",
              "      <td>-23.109505</td>\n",
              "      <td>...</td>\n",
              "      <td>-37.652954</td>\n",
              "      <td>39.876980</td>\n",
              "      <td>101.627777</td>\n",
              "      <td>-16.215570</td>\n",
              "      <td>-2.601095</td>\n",
              "      <td>74.666214</td>\n",
              "      <td>-34.334938</td>\n",
              "      <td>4.400374</td>\n",
              "      <td>-16.785315</td>\n",
              "      <td>1</td>\n",
              "    </tr>\n",
              "    <tr>\n",
              "      <th>3</th>\n",
              "      <td>34.285301</td>\n",
              "      <td>24.369213</td>\n",
              "      <td>37.394283</td>\n",
              "      <td>-56.808426</td>\n",
              "      <td>-13.195957</td>\n",
              "      <td>27.064581</td>\n",
              "      <td>-27.190607</td>\n",
              "      <td>45.300884</td>\n",
              "      <td>-38.357361</td>\n",
              "      <td>-21.576128</td>\n",
              "      <td>...</td>\n",
              "      <td>-37.443409</td>\n",
              "      <td>8.713444</td>\n",
              "      <td>20.008799</td>\n",
              "      <td>-13.551638</td>\n",
              "      <td>16.853464</td>\n",
              "      <td>48.484596</td>\n",
              "      <td>-13.077551</td>\n",
              "      <td>5.347030</td>\n",
              "      <td>-43.575981</td>\n",
              "      <td>0</td>\n",
              "    </tr>\n",
              "    <tr>\n",
              "      <th>4</th>\n",
              "      <td>8.285158</td>\n",
              "      <td>182.228394</td>\n",
              "      <td>3.545697</td>\n",
              "      <td>-74.310005</td>\n",
              "      <td>-46.353405</td>\n",
              "      <td>27.703939</td>\n",
              "      <td>-23.581633</td>\n",
              "      <td>136.181381</td>\n",
              "      <td>-75.572617</td>\n",
              "      <td>-49.096653</td>\n",
              "      <td>...</td>\n",
              "      <td>-108.719910</td>\n",
              "      <td>51.889614</td>\n",
              "      <td>156.074570</td>\n",
              "      <td>9.806570</td>\n",
              "      <td>61.040123</td>\n",
              "      <td>24.597773</td>\n",
              "      <td>-46.054447</td>\n",
              "      <td>-51.063011</td>\n",
              "      <td>-56.279831</td>\n",
              "      <td>0</td>\n",
              "    </tr>\n",
              "    <tr>\n",
              "      <th>...</th>\n",
              "      <td>...</td>\n",
              "      <td>...</td>\n",
              "      <td>...</td>\n",
              "      <td>...</td>\n",
              "      <td>...</td>\n",
              "      <td>...</td>\n",
              "      <td>...</td>\n",
              "      <td>...</td>\n",
              "      <td>...</td>\n",
              "      <td>...</td>\n",
              "      <td>...</td>\n",
              "      <td>...</td>\n",
              "      <td>...</td>\n",
              "      <td>...</td>\n",
              "      <td>...</td>\n",
              "      <td>...</td>\n",
              "      <td>...</td>\n",
              "      <td>...</td>\n",
              "      <td>...</td>\n",
              "      <td>...</td>\n",
              "      <td>...</td>\n",
              "    </tr>\n",
              "    <tr>\n",
              "      <th>26766</th>\n",
              "      <td>-71.454414</td>\n",
              "      <td>56.266552</td>\n",
              "      <td>-52.882614</td>\n",
              "      <td>-45.946815</td>\n",
              "      <td>-243.017334</td>\n",
              "      <td>76.435471</td>\n",
              "      <td>-80.246399</td>\n",
              "      <td>212.383789</td>\n",
              "      <td>-183.680710</td>\n",
              "      <td>-156.889847</td>\n",
              "      <td>...</td>\n",
              "      <td>-57.277454</td>\n",
              "      <td>78.127159</td>\n",
              "      <td>146.414536</td>\n",
              "      <td>-44.106407</td>\n",
              "      <td>59.677574</td>\n",
              "      <td>120.351700</td>\n",
              "      <td>-139.349457</td>\n",
              "      <td>35.773731</td>\n",
              "      <td>6.932467</td>\n",
              "      <td>1</td>\n",
              "    </tr>\n",
              "    <tr>\n",
              "      <th>26767</th>\n",
              "      <td>-0.284165</td>\n",
              "      <td>25.422646</td>\n",
              "      <td>2.497849</td>\n",
              "      <td>-8.947376</td>\n",
              "      <td>-36.106369</td>\n",
              "      <td>29.048079</td>\n",
              "      <td>-8.172162</td>\n",
              "      <td>28.610073</td>\n",
              "      <td>-23.188131</td>\n",
              "      <td>-27.730436</td>\n",
              "      <td>...</td>\n",
              "      <td>4.322698</td>\n",
              "      <td>22.755190</td>\n",
              "      <td>8.053110</td>\n",
              "      <td>2.871661</td>\n",
              "      <td>8.147329</td>\n",
              "      <td>12.612817</td>\n",
              "      <td>-6.104894</td>\n",
              "      <td>10.478649</td>\n",
              "      <td>2.183957</td>\n",
              "      <td>0</td>\n",
              "    </tr>\n",
              "    <tr>\n",
              "      <th>26768</th>\n",
              "      <td>71.339561</td>\n",
              "      <td>16.005495</td>\n",
              "      <td>51.056477</td>\n",
              "      <td>-179.901749</td>\n",
              "      <td>-14.259531</td>\n",
              "      <td>126.382141</td>\n",
              "      <td>-4.463017</td>\n",
              "      <td>42.901329</td>\n",
              "      <td>53.434349</td>\n",
              "      <td>-14.907699</td>\n",
              "      <td>...</td>\n",
              "      <td>-106.613243</td>\n",
              "      <td>-39.113091</td>\n",
              "      <td>48.542309</td>\n",
              "      <td>-67.660194</td>\n",
              "      <td>58.561333</td>\n",
              "      <td>206.557541</td>\n",
              "      <td>-90.538963</td>\n",
              "      <td>154.817764</td>\n",
              "      <td>-92.831696</td>\n",
              "      <td>0</td>\n",
              "    </tr>\n",
              "    <tr>\n",
              "      <th>26769</th>\n",
              "      <td>81.606827</td>\n",
              "      <td>-113.467224</td>\n",
              "      <td>-3.810923</td>\n",
              "      <td>-238.568436</td>\n",
              "      <td>70.856094</td>\n",
              "      <td>87.432976</td>\n",
              "      <td>53.989868</td>\n",
              "      <td>111.472473</td>\n",
              "      <td>-73.990349</td>\n",
              "      <td>42.114433</td>\n",
              "      <td>...</td>\n",
              "      <td>-40.093098</td>\n",
              "      <td>107.691345</td>\n",
              "      <td>-5.296010</td>\n",
              "      <td>-85.728683</td>\n",
              "      <td>78.135361</td>\n",
              "      <td>180.972107</td>\n",
              "      <td>-158.033691</td>\n",
              "      <td>8.803612</td>\n",
              "      <td>-97.057518</td>\n",
              "      <td>0</td>\n",
              "    </tr>\n",
              "    <tr>\n",
              "      <th>26770</th>\n",
              "      <td>-9.061508</td>\n",
              "      <td>51.307201</td>\n",
              "      <td>1.799478</td>\n",
              "      <td>-21.316128</td>\n",
              "      <td>33.891590</td>\n",
              "      <td>-0.983956</td>\n",
              "      <td>0.430483</td>\n",
              "      <td>29.928816</td>\n",
              "      <td>-33.132679</td>\n",
              "      <td>9.734270</td>\n",
              "      <td>...</td>\n",
              "      <td>-63.536953</td>\n",
              "      <td>41.002930</td>\n",
              "      <td>136.605927</td>\n",
              "      <td>-37.271595</td>\n",
              "      <td>66.403702</td>\n",
              "      <td>45.280163</td>\n",
              "      <td>-61.338646</td>\n",
              "      <td>74.322266</td>\n",
              "      <td>5.017591</td>\n",
              "      <td>1</td>\n",
              "    </tr>\n",
              "  </tbody>\n",
              "</table>\n",
              "<p>26771 rows × 251 columns</p>\n",
              "</div>"
            ],
            "text/plain": [
              "               0           1          2           3           4           5  \\\n",
              "0      19.657124   50.442482  20.871874  -54.531494   20.362791   28.577585   \n",
              "1      73.660179   76.221085 -40.807030  -82.814301   28.292801   36.778252   \n",
              "2     -13.957203   50.162762  60.824032  -16.521429  -84.106873   33.965801   \n",
              "3      34.285301   24.369213  37.394283  -56.808426  -13.195957   27.064581   \n",
              "4       8.285158  182.228394   3.545697  -74.310005  -46.353405   27.703939   \n",
              "...          ...         ...        ...         ...         ...         ...   \n",
              "26766 -71.454414   56.266552 -52.882614  -45.946815 -243.017334   76.435471   \n",
              "26767  -0.284165   25.422646   2.497849   -8.947376  -36.106369   29.048079   \n",
              "26768  71.339561   16.005495  51.056477 -179.901749  -14.259531  126.382141   \n",
              "26769  81.606827 -113.467224  -3.810923 -238.568436   70.856094   87.432976   \n",
              "26770  -9.061508   51.307201   1.799478  -21.316128   33.891590   -0.983956   \n",
              "\n",
              "               6           7           8           9  ...         241  \\\n",
              "0      -1.906657   28.021065  -24.411823  -19.387388  ...  -49.060287   \n",
              "1      -1.909100   49.479527  -79.806595   27.742567  ... -107.097870   \n",
              "2     -24.306961  112.798645  -90.984291  -23.109505  ...  -37.652954   \n",
              "3     -27.190607   45.300884  -38.357361  -21.576128  ...  -37.443409   \n",
              "4     -23.581633  136.181381  -75.572617  -49.096653  ... -108.719910   \n",
              "...          ...         ...         ...         ...  ...         ...   \n",
              "26766 -80.246399  212.383789 -183.680710 -156.889847  ...  -57.277454   \n",
              "26767  -8.172162   28.610073  -23.188131  -27.730436  ...    4.322698   \n",
              "26768  -4.463017   42.901329   53.434349  -14.907699  ... -106.613243   \n",
              "26769  53.989868  111.472473  -73.990349   42.114433  ...  -40.093098   \n",
              "26770   0.430483   29.928816  -33.132679    9.734270  ...  -63.536953   \n",
              "\n",
              "              242         243        244        245         246         247  \\\n",
              "0       -3.104522   27.967051 -30.539959   0.434239   36.554264   -1.757592   \n",
              "1      -24.814592  -22.166080   3.848902  36.787331   59.989563   -6.423959   \n",
              "2       39.876980  101.627777 -16.215570  -2.601095   74.666214  -34.334938   \n",
              "3        8.713444   20.008799 -13.551638  16.853464   48.484596  -13.077551   \n",
              "4       51.889614  156.074570   9.806570  61.040123   24.597773  -46.054447   \n",
              "...           ...         ...        ...        ...         ...         ...   \n",
              "26766   78.127159  146.414536 -44.106407  59.677574  120.351700 -139.349457   \n",
              "26767   22.755190    8.053110   2.871661   8.147329   12.612817   -6.104894   \n",
              "26768  -39.113091   48.542309 -67.660194  58.561333  206.557541  -90.538963   \n",
              "26769  107.691345   -5.296010 -85.728683  78.135361  180.972107 -158.033691   \n",
              "26770   41.002930  136.605927 -37.271595  66.403702   45.280163  -61.338646   \n",
              "\n",
              "              248        249  target  \n",
              "0       37.968136 -14.561114       0  \n",
              "1       21.630405 -88.683472       0  \n",
              "2        4.400374 -16.785315       1  \n",
              "3        5.347030 -43.575981       0  \n",
              "4      -51.063011 -56.279831       0  \n",
              "...           ...        ...     ...  \n",
              "26766   35.773731   6.932467       1  \n",
              "26767   10.478649   2.183957       0  \n",
              "26768  154.817764 -92.831696       0  \n",
              "26769    8.803612 -97.057518       0  \n",
              "26770   74.322266   5.017591       1  \n",
              "\n",
              "[26771 rows x 251 columns]"
            ]
          },
          "execution_count": 3,
          "metadata": {},
          "output_type": "execute_result"
        }
      ],
      "source": [
        "# randomly shuffle the rows\n",
        "df_train = df_train.sample(frac=1, random_state=42)\n",
        "\n",
        "df_train = df_train.reset_index()\n",
        "\n",
        "df_train = df_train.drop('index', axis=1)\n",
        "df_train"
      ]
    },
    {
      "cell_type": "code",
      "execution_count": 4,
      "metadata": {
        "id": "lnm5-IJkat8h"
      },
      "outputs": [],
      "source": [
        "train_y = df_train['target']\n",
        "train_x = df_train.drop(columns=['target'])"
      ]
    },
    {
      "cell_type": "code",
      "execution_count": 5,
      "metadata": {
        "id": "mDPdKmMvat8h"
      },
      "outputs": [],
      "source": [
        "# Split dataset into training set and test set\n",
        "X_train, X_test, y_train, y_test = train_test_split(train_x, train_y, test_size=0.3,random_state=109) # 70% training and 30% test\n",
        "\n",
        "robust_scaler = RobustScaler().fit(train_x.values)\n",
        "trans_x = robust_scaler.transform(train_x.values)\n",
        "# trans_test = robust_scaler.transform(test.values)"
      ]
    },
    {
      "cell_type": "code",
      "execution_count": 6,
      "metadata": {
        "colab": {
          "base_uri": "https://localhost:8080/"
        },
        "id": "eca2tVe_at8h",
        "outputId": "6ad393bc-a038-478f-ab1f-5d81d216a697"
      },
      "outputs": [
        {
          "name": "stdout",
          "output_type": "stream",
          "text": [
            "best_score:  0.9913713003567757\n"
          ]
        }
      ],
      "source": [
        "param_grid = {\"C\": [.01, .1, 1], \"penalty\": ('l1','l2')}\n",
        "logisticClassifier = LogisticRegression(solver = 'liblinear', class_weight = 'balanced', max_iter =300, penalty = 'l1')\n",
        "grid_train = GridSearchCV(logisticClassifier, param_grid, cv = 5)\n",
        "grid_train.fit(trans_x, train_y)\n",
        "\n",
        "print('best_score: ', grid_train.best_score_)"
      ]
    },
    {
      "cell_type": "code",
      "execution_count": 15,
      "metadata": {
        "colab": {
          "base_uri": "https://localhost:8080/",
          "height": 430
        },
        "id": "VArVNqAPat8i",
        "outputId": "4b7cbd04-f467-4a6c-9d62-6a43270cd9d5"
      },
      "outputs": [
        {
          "data": {
            "image/png": "[encoded data removed]",
            "text/plain": [
              "<Figure size 640x480 with 1 Axes>"
            ]
          },
          "metadata": {},
          "output_type": "display_data"
        }
      ],
      "source": [
        "pca = PCA(n_components = 200)\n",
        "pca.fit(train_x.values)\n",
        "vals_2d = pca.transform(train_x.values)\n",
        "\n",
        "colors = ['red' if t == 1 else 'blue' for t in train_y]\n",
        "for i in range(len(vals_2d)):\n",
        "    plt.scatter(x = vals_2d[i,0], y = vals_2d[i,1], color = colors[i])"
      ]
    },
    {
      "cell_type": "code",
      "execution_count": 16,
      "metadata": {
        "colab": {
          "base_uri": "https://localhost:8080/",
          "height": 472
        },
        "id": "S1NWOGZBat8i",
        "outputId": "d493c8d4-34fb-42a7-bc14-8eb0d61cac52"
      },
      "outputs": [
        {
          "data": {
            "image/png": "[encoded data removed]",
            "text/plain": [
              "<Figure size 640x480 with 1 Axes>"
            ]
          },
          "metadata": {},
          "output_type": "display_data"
        }
      ],
      "source": [
        "# Create a pipeline with PCA and logistic regression\n",
        "pc_num = 200\n",
        "\n",
        "pipe = Pipeline([\n",
        "    ('pca', PCA(n_components = pc_num)), # choose number of components to keep\n",
        "    ('clf', LogisticRegression(solver = 'liblinear', class_weight = 'balanced', max_iter = 1000, penalty = 'l1'))\n",
        "])\n",
        "\n",
        "pipe.fit(trans_x, train_y)\n",
        "\n",
        "# Create a scree plot\n",
        "plt.plot(np.arange(1, pipe['pca'].n_components_+1), pipe['pca'].explained_variance_ratio_, 'bo-')\n",
        "plt.xlabel('Number of PCs')\n",
        "plt.ylabel('Proportion of Variance Explained')\n",
        "plt.title('Scree Plot')\n",
        "plt.show()"
      ]
    },
    {
      "cell_type": "markdown",
      "metadata": {
        "id": "efZexdDtat8i"
      },
      "source": [
        "<h3>Real prediction on testing data</h3>"
      ]
    },
    {
      "cell_type": "code",
      "execution_count": 7,
      "metadata": {
        "id": "Y3NXOodOat8j"
      },
      "outputs": [],
      "source": [
        "robust_scaler = RobustScaler().fit(X_train.values)\n",
        "trans_x = robust_scaler.transform(X_train.values)\n",
        "trans_test = robust_scaler.transform(X_test.values)"
      ]
    },
    {
      "cell_type": "code",
      "execution_count": 8,
      "metadata": {
        "colab": {
          "base_uri": "https://localhost:8080/",
          "height": 116
        },
        "id": "-EQscYxWat8j",
        "outputId": "3aa08df7-8db0-45d5-cc2d-19ab80a13a9c"
      },
      "outputs": [
        {
          "data": {
            "text/plain": [
              "GridSearchCV(cv=5,\n",
              "             estimator=LogisticRegression(class_weight='balanced', max_iter=300,\n",
              "                                          penalty='l1', solver='liblinear'),\n",
              "             param_grid={'C': [0.01, 0.1], 'penalty': ('l1', 'l2')})"
            ]
          },
          "execution_count": 8,
          "metadata": {},
          "output_type": "execute_result"
        }
      ],
      "source": [
        "param_grid = {\"C\": [.01, .1], \"penalty\": ('l1','l2')}\n",
        "logisticClassifier = LogisticRegression(solver = 'liblinear', class_weight = 'balanced', max_iter = 300, penalty = 'l1')\n",
        "\n",
        "# find best parameter with cross validation\n",
        "grid_test = GridSearchCV(logisticClassifier, param_grid, cv=5)\n",
        "grid_test.fit(trans_x, y_train)\n"
      ]
    },
    {
      "cell_type": "code",
      "execution_count": 9,
      "metadata": {
        "id": "bMFcpaKfat8j"
      },
      "outputs": [
        {
          "name": "stdout",
          "output_type": "stream",
          "text": [
            "Average performance of the model: 0.987\n"
          ]
        }
      ],
      "source": [
        "print(\"Average performance of the model: {:.3f}\".format(grid_test.best_score_))"
      ]
    },
    {
      "cell_type": "code",
      "execution_count": 10,
      "metadata": {
        "id": "hu3cUas1at8j"
      },
      "outputs": [
        {
          "data": {
            "text/plain": [
              "{'mean_fit_time': array([0.45087833, 1.07233162, 1.09693217, 1.44839644]),\n",
              " 'std_fit_time': array([0.06006888, 0.07703614, 0.17535798, 0.04086952]),\n",
              " 'mean_score_time': array([0.00491543, 0.00222692, 0.00201807, 0.00203333]),\n",
              " 'std_score_time': array([0.00195581, 0.00312757, 0.00309938, 0.0030988 ]),\n",
              " 'param_C': masked_array(data=[0.01, 0.01, 0.1, 0.1],\n",
              "              mask=[False, False, False, False],\n",
              "        fill_value='?',\n",
              "             dtype=object),\n",
              " 'param_penalty': masked_array(data=['l1', 'l2', 'l1', 'l2'],\n",
              "              mask=[False, False, False, False],\n",
              "        fill_value='?',\n",
              "             dtype=object),\n",
              " 'params': [{'C': 0.01, 'penalty': 'l1'},\n",
              "  {'C': 0.01, 'penalty': 'l2'},\n",
              "  {'C': 0.1, 'penalty': 'l1'},\n",
              "  {'C': 0.1, 'penalty': 'l2'}],\n",
              " 'split0_test_score': array([0.97065101, 0.98372465, 0.98719317, 0.9879936 ]),\n",
              " 'split1_test_score': array([0.9703842 , 0.98105656, 0.98559232, 0.98612593]),\n",
              " 'split2_test_score': array([0.96371398, 0.97892209, 0.98772679, 0.98986126]),\n",
              " 'split3_test_score': array([0.96398079, 0.976254  , 0.98452508, 0.98585912]),\n",
              " 'split4_test_score': array([0.9690419 , 0.97918335, 0.98372031, 0.98612223]),\n",
              " 'mean_test_score': array([0.96755438, 0.97982813, 0.98575153, 0.98719243]),\n",
              " 'std_test_score': array([0.00307665, 0.00247802, 0.00152547, 0.00153785]),\n",
              " 'rank_test_score': array([4, 3, 2, 1])}"
            ]
          },
          "execution_count": 10,
          "metadata": {},
          "output_type": "execute_result"
        }
      ],
      "source": [
        "grid_test.cv_results_"
      ]
    },
    {
      "cell_type": "code",
      "execution_count": 11,
      "metadata": {
        "id": "LbveuOuOat8j"
      },
      "outputs": [
        {
          "data": {
            "text/html": [
              "<div>\n",
              "<style scoped>\n",
              "    .dataframe tbody tr th:only-of-type {\n",
              "        vertical-align: middle;\n",
              "    }\n",
              "\n",
              "    .dataframe tbody tr th {\n",
              "        vertical-align: top;\n",
              "    }\n",
              "\n",
              "    .dataframe thead th {\n",
              "        text-align: right;\n",
              "    }\n",
              "</style>\n",
              "<table border=\"1\" class=\"dataframe\">\n",
              "  <thead>\n",
              "    <tr style=\"text-align: right;\">\n",
              "      <th></th>\n",
              "      <th>mean_fit_time</th>\n",
              "      <th>std_fit_time</th>\n",
              "      <th>mean_score_time</th>\n",
              "      <th>std_score_time</th>\n",
              "      <th>param_C</th>\n",
              "      <th>param_penalty</th>\n",
              "      <th>params</th>\n",
              "      <th>split0_test_score</th>\n",
              "      <th>split1_test_score</th>\n",
              "      <th>split2_test_score</th>\n",
              "      <th>split3_test_score</th>\n",
              "      <th>split4_test_score</th>\n",
              "      <th>mean_test_score</th>\n",
              "      <th>std_test_score</th>\n",
              "      <th>rank_test_score</th>\n",
              "    </tr>\n",
              "  </thead>\n",
              "  <tbody>\n",
              "    <tr>\n",
              "      <th>0</th>\n",
              "      <td>0.450878</td>\n",
              "      <td>0.060069</td>\n",
              "      <td>0.004915</td>\n",
              "      <td>0.001956</td>\n",
              "      <td>0.01</td>\n",
              "      <td>l1</td>\n",
              "      <td>{'C': 0.01, 'penalty': 'l1'}</td>\n",
              "      <td>0.970651</td>\n",
              "      <td>0.970384</td>\n",
              "      <td>0.963714</td>\n",
              "      <td>0.963981</td>\n",
              "      <td>0.969042</td>\n",
              "      <td>0.967554</td>\n",
              "      <td>0.003077</td>\n",
              "      <td>4</td>\n",
              "    </tr>\n",
              "    <tr>\n",
              "      <th>1</th>\n",
              "      <td>1.072332</td>\n",
              "      <td>0.077036</td>\n",
              "      <td>0.002227</td>\n",
              "      <td>0.003128</td>\n",
              "      <td>0.01</td>\n",
              "      <td>l2</td>\n",
              "      <td>{'C': 0.01, 'penalty': 'l2'}</td>\n",
              "      <td>0.983725</td>\n",
              "      <td>0.981057</td>\n",
              "      <td>0.978922</td>\n",
              "      <td>0.976254</td>\n",
              "      <td>0.979183</td>\n",
              "      <td>0.979828</td>\n",
              "      <td>0.002478</td>\n",
              "      <td>3</td>\n",
              "    </tr>\n",
              "    <tr>\n",
              "      <th>2</th>\n",
              "      <td>1.096932</td>\n",
              "      <td>0.175358</td>\n",
              "      <td>0.002018</td>\n",
              "      <td>0.003099</td>\n",
              "      <td>0.1</td>\n",
              "      <td>l1</td>\n",
              "      <td>{'C': 0.1, 'penalty': 'l1'}</td>\n",
              "      <td>0.987193</td>\n",
              "      <td>0.985592</td>\n",
              "      <td>0.987727</td>\n",
              "      <td>0.984525</td>\n",
              "      <td>0.983720</td>\n",
              "      <td>0.985752</td>\n",
              "      <td>0.001525</td>\n",
              "      <td>2</td>\n",
              "    </tr>\n",
              "    <tr>\n",
              "      <th>3</th>\n",
              "      <td>1.448396</td>\n",
              "      <td>0.040870</td>\n",
              "      <td>0.002033</td>\n",
              "      <td>0.003099</td>\n",
              "      <td>0.1</td>\n",
              "      <td>l2</td>\n",
              "      <td>{'C': 0.1, 'penalty': 'l2'}</td>\n",
              "      <td>0.987994</td>\n",
              "      <td>0.986126</td>\n",
              "      <td>0.989861</td>\n",
              "      <td>0.985859</td>\n",
              "      <td>0.986122</td>\n",
              "      <td>0.987192</td>\n",
              "      <td>0.001538</td>\n",
              "      <td>1</td>\n",
              "    </tr>\n",
              "  </tbody>\n",
              "</table>\n",
              "</div>"
            ],
            "text/plain": [
              "   mean_fit_time  std_fit_time  mean_score_time  std_score_time param_C  \\\n",
              "0       0.450878      0.060069         0.004915        0.001956    0.01   \n",
              "1       1.072332      0.077036         0.002227        0.003128    0.01   \n",
              "2       1.096932      0.175358         0.002018        0.003099     0.1   \n",
              "3       1.448396      0.040870         0.002033        0.003099     0.1   \n",
              "\n",
              "  param_penalty                        params  split0_test_score  \\\n",
              "0            l1  {'C': 0.01, 'penalty': 'l1'}           0.970651   \n",
              "1            l2  {'C': 0.01, 'penalty': 'l2'}           0.983725   \n",
              "2            l1   {'C': 0.1, 'penalty': 'l1'}           0.987193   \n",
              "3            l2   {'C': 0.1, 'penalty': 'l2'}           0.987994   \n",
              "\n",
              "   split1_test_score  split2_test_score  split3_test_score  split4_test_score  \\\n",
              "0           0.970384           0.963714           0.963981           0.969042   \n",
              "1           0.981057           0.978922           0.976254           0.979183   \n",
              "2           0.985592           0.987727           0.984525           0.983720   \n",
              "3           0.986126           0.989861           0.985859           0.986122   \n",
              "\n",
              "   mean_test_score  std_test_score  rank_test_score  \n",
              "0         0.967554        0.003077                4  \n",
              "1         0.979828        0.002478                3  \n",
              "2         0.985752        0.001525                2  \n",
              "3         0.987192        0.001538                1  "
            ]
          },
          "execution_count": 11,
          "metadata": {},
          "output_type": "execute_result"
        }
      ],
      "source": [
        "result_df = pd.DataFrame(grid_test.cv_results_)\n",
        "result_df"
      ]
    },
    {
      "cell_type": "code",
      "execution_count": 12,
      "metadata": {
        "colab": {
          "base_uri": "https://localhost:8080/"
        },
        "id": "x3ogIJ2yat8k",
        "outputId": "39a8d558-fb14-4999-ad57-cee0e0193e49"
      },
      "outputs": [
        {
          "name": "stdout",
          "output_type": "stream",
          "text": [
            "              precision    recall  f1-score   support\n",
            "\n",
            "           0       0.99      1.00      0.99      6416\n",
            "           1       0.98      0.96      0.97      1616\n",
            "\n",
            "    accuracy                           0.99      8032\n",
            "   macro avg       0.99      0.98      0.98      8032\n",
            "weighted avg       0.99      0.99      0.99      8032\n",
            "\n"
          ]
        }
      ],
      "source": [
        "y_pred = grid_test.predict(trans_test)\n",
        "print(metrics.classification_report(y_pred, y_test))"
      ]
    },
    {
      "cell_type": "markdown",
      "metadata": {
        "id": "Xxu4lpZpat8k"
      },
      "source": [
        "K-fold"
      ]
    },
    {
      "cell_type": "code",
      "execution_count": 13,
      "metadata": {
        "id": "lGFXuma9at8k"
      },
      "outputs": [],
      "source": [
        "\n",
        "\n",
        "k_folds = KFold(n_splits = 5)\n",
        "param_grid = {\"C\": [.01, .1], \"penalty\": ('l1','l2')}\n",
        "logisticClassifier = LogisticRegression(solver = 'liblinear', class_weight = 'balanced', max_iter = 300, penalty = 'l1')\n",
        "\n"
      ]
    },
    {
      "cell_type": "code",
      "execution_count": 14,
      "metadata": {
        "colab": {
          "base_uri": "https://localhost:8080/"
        },
        "id": "dY4mV_7Hat8k",
        "outputId": "d10be49c-dc88-443f-efd3-33e1b27dcfc8"
      },
      "outputs": [
        {
          "name": "stdout",
          "output_type": "stream",
          "text": [
            "Cross Validation Scores:  [0.98823529 0.98972731 0.98935375 0.99010086 0.99047441]\n",
            "Average CV Score:  0.9895783251664506\n"
          ]
        }
      ],
      "source": [
        "scores = cross_val_score(logisticClassifier, train_x, train_y, cv = k_folds)\n",
        "\n",
        "print(\"Cross Validation Scores: \", scores)\n",
        "print(\"Average CV Score: \", scores.mean())"
      ]
    },
    {
      "cell_type": "code",
      "execution_count": 15,
      "metadata": {
        "id": "shsjahIfcS_1"
      },
      "outputs": [
        {
          "name": "stdout",
          "output_type": "stream",
          "text": [
            "Cross Validation Scores:  [0.98860878 0.99103474 0.99047441 0.99028764 0.9921554 ]\n",
            "Average CV Score:  0.9905121924252207\n"
          ]
        }
      ],
      "source": [
        "param_grid = {\"C\": [.01, .1], \"penalty\": ('l1','l2')}\n",
        "logisticClassifier = LogisticRegression(solver = 'liblinear', class_weight = 'balanced', max_iter = 300, penalty = 'l1')\n",
        "\n",
        "# find best parameter with cross validation\n",
        "grid_test = GridSearchCV(logisticClassifier, param_grid, cv=5)\n",
        "\n",
        "scores = cross_val_score(grid_test, train_x, train_y, cv = k_folds)\n",
        "\n",
        "print(\"Cross Validation Scores: \", scores)\n",
        "print(\"Average CV Score: \", scores.mean())"
      ]
    }
  ],
  "metadata": {
    "accelerator": "TPU",
    "colab": {
      "provenance": []
    },
    "gpuClass": "standard",
    "kernelspec": {
      "display_name": "Python 3",
      "language": "python",
      "name": "python3"
    },
    "language_info": {
      "codemirror_mode": {
        "name": "ipython",
        "version": 3
      },
      "file_extension": ".py",
      "mimetype": "text/x-python",
      "name": "python",
      "nbconvert_exporter": "python",
      "pygments_lexer": "ipython3",
      "version": "3.9.15"
    },
    "orig_nbformat": 4,
    "vscode": {
      "interpreter": {
        "hash": "81794d4967e6c3204c66dcd87b604927b115b27c00565d3d43f05ba2f3a2cb0d"
      }
    }
  },
  "nbformat": 4,
  "nbformat_minor": 0
}
