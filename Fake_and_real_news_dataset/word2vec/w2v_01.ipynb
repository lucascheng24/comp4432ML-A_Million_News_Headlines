{
 "cells": [
  {
   "attachments": {},
   "cell_type": "markdown",
   "metadata": {},
   "source": [
    "target: true(0), fake(1)"
   ]
  },
  {
   "cell_type": "code",
   "execution_count": null,
   "metadata": {},
   "outputs": [],
   "source": [
    "import pandas as pd\n",
    "\n",
    "url = 'https://raw.githubusercontent.com/lucascheng24/comp4432ML-A_Million_News_Headlines/main/abcnews-date-text.csv'\n",
    "\n",
    "true_news_url = 'https://raw.githubusercontent.com/lucascheng24/comp4432ML-A_Million_News_Headlines/main/Fake_and_real_news_dataset/raw_dataset/True.csv'\n",
    "fake_news_url = 'https://raw.githubusercontent.com/lucascheng24/comp4432ML-A_Million_News_Headlines/main/Fake_and_real_news_dataset/raw_dataset/Fake.csv'\n",
    "\n",
    "\n",
    "\n",
    "df_true = pd.read_csv(true_news_url)\n",
    "df_fake = pd.read_csv(fake_news_url)\n"
   ]
  },
  {
   "cell_type": "code",
   "execution_count": null,
   "metadata": {},
   "outputs": [],
   "source": [
    "df_true.shape\n",
    "df_true.head()"
   ]
  },
  {
   "cell_type": "code",
   "execution_count": null,
   "metadata": {},
   "outputs": [],
   "source": [
    "df_fake.shape\n",
    "df_fake.head()"
   ]
  }
 ],
 "metadata": {
  "kernelspec": {
   "display_name": "base",
   "language": "python",
   "name": "python3"
  },
  "language_info": {
   "codemirror_mode": {
    "name": "ipython",
    "version": 3
   },
   "file_extension": ".py",
   "mimetype": "text/x-python",
   "name": "python",
   "nbconvert_exporter": "python",
   "pygments_lexer": "ipython3",
   "version": "3.9.15"
  },
  "orig_nbformat": 4
 },
 "nbformat": 4,
 "nbformat_minor": 2
}
