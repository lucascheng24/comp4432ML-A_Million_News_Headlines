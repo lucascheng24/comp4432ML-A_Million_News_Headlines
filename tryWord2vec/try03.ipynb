{
 "cells": [
  {
   "cell_type": "code",
   "execution_count": null,
   "metadata": {},
   "outputs": [],
   "source": [
    "# import csv\n",
    "\n",
    "# headlines = []\n",
    "\n",
    "# with open('headlines.csv', 'r') as file:\n",
    "#     reader = csv.DictReader(file)\n",
    "#     for row in reader:\n",
    "#         headlines.append(row['headline_text'])"
   ]
  },
  {
   "cell_type": "code",
   "execution_count": null,
   "metadata": {},
   "outputs": [],
   "source": [
    "import pandas as pd\n",
    "\n",
    "url = 'https://raw.githubusercontent.com/lucascheng24/comp4432ML-A_Million_News_Headlines/main/abcnews-date-text.csv'\n",
    "\n",
    "\n",
    "df = pd.read_csv(url)\n",
    "\n",
    "headlines = df['headline_text']"
   ]
  },
  {
   "cell_type": "code",
   "execution_count": null,
   "metadata": {},
   "outputs": [],
   "source": [
    "import string\n",
    "from nltk.corpus import stopwords\n",
    "from nltk.tokenize import word_tokenize\n",
    "\n",
    "stop_words = set(stopwords.words('english'))\n",
    "punctuation = set(string.punctuation)\n",
    "\n",
    "def preprocess(text):\n",
    "    tokens = word_tokenize(text.lower())\n",
    "    tokens = [token for token in tokens if token not in stop_words and token not in punctuation]\n",
    "    return tokens\n",
    "\n",
    "preprocessed_headlines = [preprocess(headline) for headline in headlines]"
   ]
  },
  {
   "cell_type": "code",
   "execution_count": null,
   "metadata": {},
   "outputs": [],
   "source": [
    "from gensim.models.word2vec import Word2Vec\n",
    "\n",
    "model = Word2Vec(preprocessed_headlines, size=100, window=5, min_count=1, workers=4)\n",
    "# In this code, we use the Word2Vec class from the gensim library to train a Word2Vec model on the preprocessed headlines. The size parameter specifies the dimensionality of the Word2Vec vectors, the window parameter specifies the size of the context window, the min_count parameter specifies the minimum frequency of a word to be included in the model, and the workers parameter specifies the number of worker threads to use during training.\n",
    "\n",
    "# Get the Word2Vec vectors for each headline:\n",
    "headline_vectors = []\n",
    "\n",
    "for headline in preprocessed_headlines:\n",
    "    vector = sum([model.wv[word] for word in headline if word in model.wv])\n",
    "    headline_vectors.append(vector)"
   ]
  },
  {
   "cell_type": "code",
   "execution_count": null,
   "metadata": {},
   "outputs": [],
   "source": [
    "for i in range(10):\n",
    "    print(f\"Headline {i}: {headline_vectors[i]}\")"
   ]
  }
 ],
 "metadata": {
  "language_info": {
   "name": "python"
  },
  "orig_nbformat": 4
 },
 "nbformat": 4,
 "nbformat_minor": 2
}
