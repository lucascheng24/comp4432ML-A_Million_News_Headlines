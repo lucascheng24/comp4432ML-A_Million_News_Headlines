{
 "cells": [
  {
   "cell_type": "code",
   "execution_count": 34,
   "metadata": {},
   "outputs": [],
   "source": [
    "import pandas as pd\n",
    "\n",
    "url = 'https://raw.githubusercontent.com/lucascheng24/comp4432ML-A_Million_News_Headlines/main/abcnews-date-text.csv'\n",
    "\n",
    "\n",
    "df = pd.read_csv(url)\n",
    "\n",
    "headlines = df['headline_text']"
   ]
  },
  {
   "cell_type": "code",
   "execution_count": 42,
   "metadata": {},
   "outputs": [
    {
     "data": {
      "text/plain": [
       "(1244184, 2)"
      ]
     },
     "execution_count": 42,
     "metadata": {},
     "output_type": "execute_result"
    }
   ],
   "source": [
    "df.shape"
   ]
  },
  {
   "cell_type": "code",
   "execution_count": 35,
   "metadata": {},
   "outputs": [
    {
     "name": "stderr",
     "output_type": "stream",
     "text": [
      "[nltk_data] Downloading package stopwords to\n",
      "[nltk_data]     C:\\Users\\lucas\\AppData\\Roaming\\nltk_data...\n",
      "[nltk_data]   Package stopwords is already up-to-date!\n",
      "[nltk_data] Downloading package punkt to\n",
      "[nltk_data]     C:\\Users\\lucas\\AppData\\Roaming\\nltk_data...\n",
      "[nltk_data]   Package punkt is already up-to-date!\n"
     ]
    },
    {
     "data": {
      "text/plain": [
       "True"
      ]
     },
     "execution_count": 35,
     "metadata": {},
     "output_type": "execute_result"
    }
   ],
   "source": [
    "import nltk\n",
    "nltk.download('stopwords')\n",
    "nltk.download('punkt')"
   ]
  },
  {
   "cell_type": "code",
   "execution_count": 36,
   "metadata": {},
   "outputs": [],
   "source": [
    "import string\n",
    "from nltk.tokenize import word_tokenize\n",
    "from nltk.corpus import stopwords\n",
    "\n",
    "stop_words = set(stopwords.words('english'))\n",
    "# print(\"stop_words:\")\n",
    "# stop_words\n",
    "punctuation = set(string.punctuation)\n",
    "# punctuation\n",
    "\n",
    "def preprocess(text):\n",
    "    tokens = word_tokenize(text.lower())\n",
    "    tokens = [token for token in tokens if token not in stop_words and token not in punctuation]\n",
    "    return tokens\n",
    "\n",
    "preprocessed_headlines = [preprocess(headline) for headline in headlines]"
   ]
  },
  {
   "cell_type": "code",
   "execution_count": 37,
   "metadata": {},
   "outputs": [],
   "source": [
    "from gensim.models.word2vec import Word2Vec\n",
    "import numpy as np\n",
    "\n",
    "model = Word2Vec(preprocessed_headlines, vector_size=250, window=5, min_count=1, workers=4)\n",
    "\n",
    "# Get the Word2Vec vectors for each headline:\n",
    "# headline_vectors = np.array()\n",
    "\n",
    "headline_vectors = np.empty((len(preprocessed_headlines), model.vector_size), dtype=np.float32)\n",
    "\n",
    "# Get the Word2Vec vectors for each headline:\n",
    "headline_vectors = np.empty((len(preprocessed_headlines), model.vector_size), dtype=np.float32)\n",
    "\n",
    "for i, headline in enumerate(preprocessed_headlines):\n",
    "    vector = sum([model.wv[word] for word in headline if word in model.wv])\n",
    "    headline_vectors[i] = vector"
   ]
  },
  {
   "cell_type": "code",
   "execution_count": 38,
   "metadata": {},
   "outputs": [],
   "source": [
    "len(headline_vectors)\n",
    "\n",
    "w2v_df = pd.DataFrame(headline_vectors, dtype=float)"
   ]
  },
  {
   "cell_type": "code",
   "execution_count": 39,
   "metadata": {},
   "outputs": [
    {
     "data": {
      "text/html": [
       "<div>\n",
       "<style scoped>\n",
       "    .dataframe tbody tr th:only-of-type {\n",
       "        vertical-align: middle;\n",
       "    }\n",
       "\n",
       "    .dataframe tbody tr th {\n",
       "        vertical-align: top;\n",
       "    }\n",
       "\n",
       "    .dataframe thead th {\n",
       "        text-align: right;\n",
       "    }\n",
       "</style>\n",
       "<table border=\"1\" class=\"dataframe\">\n",
       "  <thead>\n",
       "    <tr style=\"text-align: right;\">\n",
       "      <th></th>\n",
       "      <th>0</th>\n",
       "      <th>1</th>\n",
       "      <th>2</th>\n",
       "      <th>3</th>\n",
       "      <th>4</th>\n",
       "      <th>5</th>\n",
       "      <th>6</th>\n",
       "      <th>7</th>\n",
       "      <th>8</th>\n",
       "      <th>9</th>\n",
       "      <th>...</th>\n",
       "      <th>240</th>\n",
       "      <th>241</th>\n",
       "      <th>242</th>\n",
       "      <th>243</th>\n",
       "      <th>244</th>\n",
       "      <th>245</th>\n",
       "      <th>246</th>\n",
       "      <th>247</th>\n",
       "      <th>248</th>\n",
       "      <th>249</th>\n",
       "    </tr>\n",
       "  </thead>\n",
       "  <tbody>\n",
       "    <tr>\n",
       "      <th>0</th>\n",
       "      <td>-0.035466</td>\n",
       "      <td>2.090561</td>\n",
       "      <td>-0.578136</td>\n",
       "      <td>-0.961729</td>\n",
       "      <td>-0.155613</td>\n",
       "      <td>-0.502123</td>\n",
       "      <td>0.901985</td>\n",
       "      <td>1.506486</td>\n",
       "      <td>2.179383</td>\n",
       "      <td>-0.949136</td>\n",
       "      <td>...</td>\n",
       "      <td>1.017138</td>\n",
       "      <td>-0.490571</td>\n",
       "      <td>-0.405948</td>\n",
       "      <td>0.492721</td>\n",
       "      <td>-1.736171</td>\n",
       "      <td>-3.153730</td>\n",
       "      <td>-0.634919</td>\n",
       "      <td>2.069894</td>\n",
       "      <td>-2.172242</td>\n",
       "      <td>0.927225</td>\n",
       "    </tr>\n",
       "    <tr>\n",
       "      <th>1</th>\n",
       "      <td>3.100823</td>\n",
       "      <td>0.866068</td>\n",
       "      <td>0.947129</td>\n",
       "      <td>-1.813679</td>\n",
       "      <td>1.346598</td>\n",
       "      <td>-1.600463</td>\n",
       "      <td>4.005124</td>\n",
       "      <td>3.652244</td>\n",
       "      <td>2.437969</td>\n",
       "      <td>1.004357</td>\n",
       "      <td>...</td>\n",
       "      <td>-0.324825</td>\n",
       "      <td>-2.738750</td>\n",
       "      <td>-1.117797</td>\n",
       "      <td>3.568012</td>\n",
       "      <td>-0.528337</td>\n",
       "      <td>-0.445710</td>\n",
       "      <td>1.341043</td>\n",
       "      <td>-0.897707</td>\n",
       "      <td>-5.613214</td>\n",
       "      <td>1.325465</td>\n",
       "    </tr>\n",
       "    <tr>\n",
       "      <th>2</th>\n",
       "      <td>0.238180</td>\n",
       "      <td>1.693449</td>\n",
       "      <td>0.237468</td>\n",
       "      <td>0.904612</td>\n",
       "      <td>3.048339</td>\n",
       "      <td>0.173412</td>\n",
       "      <td>-3.112793</td>\n",
       "      <td>0.054778</td>\n",
       "      <td>0.850309</td>\n",
       "      <td>0.669900</td>\n",
       "      <td>...</td>\n",
       "      <td>-1.863468</td>\n",
       "      <td>1.107229</td>\n",
       "      <td>-2.114302</td>\n",
       "      <td>0.687234</td>\n",
       "      <td>-2.047570</td>\n",
       "      <td>-3.295552</td>\n",
       "      <td>-4.176244</td>\n",
       "      <td>1.516871</td>\n",
       "      <td>0.665737</td>\n",
       "      <td>1.839270</td>\n",
       "    </tr>\n",
       "    <tr>\n",
       "      <th>3</th>\n",
       "      <td>7.305196</td>\n",
       "      <td>0.604983</td>\n",
       "      <td>-1.418347</td>\n",
       "      <td>3.558980</td>\n",
       "      <td>-0.008753</td>\n",
       "      <td>-1.132118</td>\n",
       "      <td>7.512342</td>\n",
       "      <td>3.004107</td>\n",
       "      <td>3.013431</td>\n",
       "      <td>-2.274545</td>\n",
       "      <td>...</td>\n",
       "      <td>3.230869</td>\n",
       "      <td>-3.722984</td>\n",
       "      <td>-3.472594</td>\n",
       "      <td>2.842696</td>\n",
       "      <td>3.922702</td>\n",
       "      <td>-1.475362</td>\n",
       "      <td>-3.061278</td>\n",
       "      <td>0.506063</td>\n",
       "      <td>-2.072328</td>\n",
       "      <td>2.182732</td>\n",
       "    </tr>\n",
       "    <tr>\n",
       "      <th>4</th>\n",
       "      <td>5.285818</td>\n",
       "      <td>-1.668861</td>\n",
       "      <td>-2.668420</td>\n",
       "      <td>-0.980627</td>\n",
       "      <td>-0.222302</td>\n",
       "      <td>-0.460265</td>\n",
       "      <td>5.777374</td>\n",
       "      <td>2.118079</td>\n",
       "      <td>1.556891</td>\n",
       "      <td>-2.300675</td>\n",
       "      <td>...</td>\n",
       "      <td>1.670025</td>\n",
       "      <td>-4.686347</td>\n",
       "      <td>-3.393124</td>\n",
       "      <td>0.755297</td>\n",
       "      <td>1.350831</td>\n",
       "      <td>-2.054565</td>\n",
       "      <td>-2.832904</td>\n",
       "      <td>-0.026574</td>\n",
       "      <td>-1.665750</td>\n",
       "      <td>2.411726</td>\n",
       "    </tr>\n",
       "  </tbody>\n",
       "</table>\n",
       "<p>5 rows × 250 columns</p>\n",
       "</div>"
      ],
      "text/plain": [
       "        0         1         2         3         4         5         6    \\\n",
       "0 -0.035466  2.090561 -0.578136 -0.961729 -0.155613 -0.502123  0.901985   \n",
       "1  3.100823  0.866068  0.947129 -1.813679  1.346598 -1.600463  4.005124   \n",
       "2  0.238180  1.693449  0.237468  0.904612  3.048339  0.173412 -3.112793   \n",
       "3  7.305196  0.604983 -1.418347  3.558980 -0.008753 -1.132118  7.512342   \n",
       "4  5.285818 -1.668861 -2.668420 -0.980627 -0.222302 -0.460265  5.777374   \n",
       "\n",
       "        7         8         9    ...       240       241       242       243  \\\n",
       "0  1.506486  2.179383 -0.949136  ...  1.017138 -0.490571 -0.405948  0.492721   \n",
       "1  3.652244  2.437969  1.004357  ... -0.324825 -2.738750 -1.117797  3.568012   \n",
       "2  0.054778  0.850309  0.669900  ... -1.863468  1.107229 -2.114302  0.687234   \n",
       "3  3.004107  3.013431 -2.274545  ...  3.230869 -3.722984 -3.472594  2.842696   \n",
       "4  2.118079  1.556891 -2.300675  ...  1.670025 -4.686347 -3.393124  0.755297   \n",
       "\n",
       "        244       245       246       247       248       249  \n",
       "0 -1.736171 -3.153730 -0.634919  2.069894 -2.172242  0.927225  \n",
       "1 -0.528337 -0.445710  1.341043 -0.897707 -5.613214  1.325465  \n",
       "2 -2.047570 -3.295552 -4.176244  1.516871  0.665737  1.839270  \n",
       "3  3.922702 -1.475362 -3.061278  0.506063 -2.072328  2.182732  \n",
       "4  1.350831 -2.054565 -2.832904 -0.026574 -1.665750  2.411726  \n",
       "\n",
       "[5 rows x 250 columns]"
      ]
     },
     "execution_count": 39,
     "metadata": {},
     "output_type": "execute_result"
    }
   ],
   "source": [
    "w2v_df.head()"
   ]
  },
  {
   "cell_type": "code",
   "execution_count": 40,
   "metadata": {},
   "outputs": [
    {
     "data": {
      "text/plain": [
       "(1244184, 250)"
      ]
     },
     "execution_count": 40,
     "metadata": {},
     "output_type": "execute_result"
    }
   ],
   "source": [
    "w2v_df.shape"
   ]
  },
  {
   "cell_type": "code",
   "execution_count": 43,
   "metadata": {},
   "outputs": [],
   "source": [
    "file_name = '../preprocess_data_set/w2v_vec' + str(model.vector_size) + '.csv'\n",
    "\n",
    "# the file size is very large, above 5 GB(nearly 6 GB), it takes time to write the csv\n",
    "w2v_df.to_csv(file_name, sep=',', encoding='utf-8', index=False)"
   ]
  },
  {
   "attachments": {},
   "cell_type": "markdown",
   "metadata": {},
   "source": [
    "or you can access the file in here google shared drive\n",
    "\n",
    "the file is nearly 6GB\n",
    "\n",
    "url: https://drive.google.com/drive/folders/1jD38rLvVf4jDOoNGryhX5xWg1p_3vED6?usp=share_link\n"
   ]
  },
  {
   "cell_type": "code",
   "execution_count": 46,
   "metadata": {},
   "outputs": [
    {
     "data": {
      "text/plain": [
       "[('terror', 0.8962749242782593),\n",
       " ('terrorist', 0.799610435962677),\n",
       " ('graft', 0.6510749459266663),\n",
       " ('ji', 0.649673581123352),\n",
       " ('extremism', 0.6345405578613281),\n",
       " ('terrorists', 0.6244011521339417),\n",
       " ('extremist', 0.6217733025550842),\n",
       " ('sedition', 0.5998108983039856),\n",
       " ('piracy', 0.5920601487159729),\n",
       " ('coup', 0.5854882597923279)]"
      ]
     },
     "execution_count": 46,
     "metadata": {},
     "output_type": "execute_result"
    }
   ],
   "source": [
    "model.wv.most_similar(\"terrorism\")"
   ]
  },
  {
   "cell_type": "code",
   "execution_count": 47,
   "metadata": {},
   "outputs": [
    {
     "data": {
      "text/plain": [
       "[('disaster', 0.6624509692192078),\n",
       " ('tsunamis', 0.6420174837112427),\n",
       " ('proportions', 0.617561936378479),\n",
       " ('warming', 0.6085724234580994),\n",
       " ('floods', 0.6073594093322754),\n",
       " ('droughts', 0.604672372341156),\n",
       " ('deforestation', 0.5911036729812622),\n",
       " ('catastrophe', 0.5904967784881592),\n",
       " ('natural', 0.5899642109870911),\n",
       " ('famine', 0.5873579978942871)]"
      ]
     },
     "execution_count": 47,
     "metadata": {},
     "output_type": "execute_result"
    }
   ],
   "source": [
    "model.wv.most_similar(\"disasters\")"
   ]
  },
  {
   "cell_type": "code",
   "execution_count": 54,
   "metadata": {},
   "outputs": [
    {
     "data": {
      "text/plain": [
       "[('broadcaster', 0.7234187722206116),\n",
       " ('youngs', 0.6694865226745605),\n",
       " ('odonoghues', 0.6553863883018494),\n",
       " ('trustee', 0.6505446434020996),\n",
       " ('roseanne', 0.6493261456489563),\n",
       " ('harmer', 0.6485344171524048),\n",
       " ('roscoe', 0.645789384841919),\n",
       " ('fulde', 0.6457544565200806),\n",
       " ('hillvue', 0.6414507627487183),\n",
       " ('masturbator', 0.6334753632545471)]"
      ]
     },
     "execution_count": 54,
     "metadata": {},
     "output_type": "execute_result"
    }
   ],
   "source": [
    "\n",
    "# model.wv.most_similar(\"broadcasting\")\n",
    "\n",
    "model.wv.most_similar(\"spigelman\")"
   ]
  },
  {
   "cell_type": "code",
   "execution_count": 49,
   "metadata": {},
   "outputs": [
    {
     "data": {
      "text/plain": [
       "(250,)"
      ]
     },
     "execution_count": 49,
     "metadata": {},
     "output_type": "execute_result"
    }
   ],
   "source": [
    "model.wv[\"cat\"].shape"
   ]
  },
  {
   "cell_type": "code",
   "execution_count": 50,
   "metadata": {},
   "outputs": [
    {
     "data": {
      "text/plain": [
       "0.7060579"
      ]
     },
     "execution_count": 50,
     "metadata": {},
     "output_type": "execute_result"
    }
   ],
   "source": [
    "model.wv.similarity(\"cat\", \"dog\")"
   ]
  }
 ],
 "metadata": {
  "kernelspec": {
   "display_name": "base",
   "language": "python",
   "name": "python3"
  },
  "language_info": {
   "codemirror_mode": {
    "name": "ipython",
    "version": 3
   },
   "file_extension": ".py",
   "mimetype": "text/x-python",
   "name": "python",
   "nbconvert_exporter": "python",
   "pygments_lexer": "ipython3",
   "version": "3.9.15"
  },
  "orig_nbformat": 4
 },
 "nbformat": 4,
 "nbformat_minor": 2
}
